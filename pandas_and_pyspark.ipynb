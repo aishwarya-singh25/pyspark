{
  "nbformat": 4,
  "nbformat_minor": 0,
  "metadata": {
    "colab": {
      "provenance": []
    },
    "kernelspec": {
      "name": "python3",
      "display_name": "Python 3"
    },
    "language_info": {
      "name": "python"
    }
  },
  "cells": [
    {
      "cell_type": "markdown",
      "source": [
        "# Why use pyspark?\n",
        "\n",
        "**PySpark** is an interface for Apache Spark in Python. **Apache Spark** is an open-source unified analytics engine for large-scale data processing.\n",
        "\n",
        "There is a lot to cover - MLlib, SQL, implementing with AWS (EMR). Source for later reference: https://aws.amazon.com/what-is/apache-spark/\n"
      ],
      "metadata": {
        "id": "B_9iePWv_fHm"
      }
    },
    {
      "cell_type": "markdown",
      "source": [
        "# Setting up Pyspark"
      ],
      "metadata": {
        "id": "kHGCMGSJ_Xoy"
      }
    },
    {
      "cell_type": "code",
      "execution_count": null,
      "metadata": {
        "colab": {
          "base_uri": "https://localhost:8080/"
        },
        "id": "HGZr485x9_Jk",
        "outputId": "49c75ca6-3563-4d93-f3d2-4b38d40792bd"
      },
      "outputs": [
        {
          "output_type": "stream",
          "name": "stdout",
          "text": [
            "Collecting pyspark\n",
            "  Downloading pyspark-3.5.1.tar.gz (317.0 MB)\n",
            "\u001b[2K     \u001b[90m━━━━━━━━━━━━━━━━━━━━━━━━━━━━━━━━━━━━━━━━\u001b[0m \u001b[32m317.0/317.0 MB\u001b[0m \u001b[31m3.1 MB/s\u001b[0m eta \u001b[36m0:00:00\u001b[0m\n",
            "\u001b[?25h  Preparing metadata (setup.py) ... \u001b[?25l\u001b[?25hdone\n",
            "Requirement already satisfied: py4j==0.10.9.7 in /usr/local/lib/python3.10/dist-packages (from pyspark) (0.10.9.7)\n",
            "Building wheels for collected packages: pyspark\n",
            "  Building wheel for pyspark (setup.py) ... \u001b[?25l\u001b[?25hdone\n",
            "  Created wheel for pyspark: filename=pyspark-3.5.1-py2.py3-none-any.whl size=317488491 sha256=36af4ccb0b6f779f4b63c410186ae87008931d037ba55dd0ae15650c56e3ffaa\n",
            "  Stored in directory: /root/.cache/pip/wheels/80/1d/60/2c256ed38dddce2fdd93be545214a63e02fbd8d74fb0b7f3a6\n",
            "Successfully built pyspark\n",
            "Installing collected packages: pyspark\n",
            "Successfully installed pyspark-3.5.1\n"
          ]
        }
      ],
      "source": [
        "!pip install pyspark"
      ]
    },
    {
      "cell_type": "markdown",
      "source": [
        "# Getting Dataset"
      ],
      "metadata": {
        "id": "OmE3fncoGKOA"
      }
    },
    {
      "cell_type": "code",
      "source": [
        "!wget https://data.cityofchicago.org/api/views/ijzp-q8t2/rows.csv?accessType=DOWNLOAD"
      ],
      "metadata": {
        "colab": {
          "base_uri": "https://localhost:8080/"
        },
        "id": "rdKaI0aTGMXp",
        "outputId": "aab9616d-fc81-4b25-d93b-8b6e24b6ff34"
      },
      "execution_count": null,
      "outputs": [
        {
          "output_type": "stream",
          "name": "stdout",
          "text": [
            "--2024-04-15 18:50:36--  https://data.cityofchicago.org/api/views/ijzp-q8t2/rows.csv?accessType=DOWNLOAD\n",
            "Resolving data.cityofchicago.org (data.cityofchicago.org)... 52.206.68.26, 52.206.140.199, 52.206.140.205\n",
            "Connecting to data.cityofchicago.org (data.cityofchicago.org)|52.206.68.26|:443... connected.\n",
            "HTTP request sent, awaiting response... 200 OK\n",
            "Length: unspecified [text/csv]\n",
            "Saving to: ‘rows.csv?accessType=DOWNLOAD’\n",
            "\n",
            "rows.csv?accessType     [    <=>             ]   1.77G  1.53MB/s    in 12m 30s \n",
            "\n",
            "2024-04-15 19:03:07 (2.41 MB/s) - ‘rows.csv?accessType=DOWNLOAD’ saved [1898542709]\n",
            "\n"
          ]
        }
      ]
    },
    {
      "cell_type": "code",
      "source": [
        "mv rows.csv\\?accessType\\=DOWNLOAD reported-crimes.csv"
      ],
      "metadata": {
        "id": "Oluy1QljGyb4"
      },
      "execution_count": null,
      "outputs": []
    },
    {
      "cell_type": "code",
      "source": [
        "!ls"
      ],
      "metadata": {
        "colab": {
          "base_uri": "https://localhost:8080/"
        },
        "id": "jjzIk5EMGVNf",
        "outputId": "804cb5f6-e50b-4753-87e8-64936559d0dd"
      },
      "execution_count": null,
      "outputs": [
        {
          "output_type": "stream",
          "name": "stdout",
          "text": [
            "reported-crimes.csv  sample_data\n"
          ]
        }
      ]
    },
    {
      "cell_type": "markdown",
      "source": [
        "# Importing Required Libraries"
      ],
      "metadata": {
        "id": "2mH92D9uGWpi"
      }
    },
    {
      "cell_type": "markdown",
      "source": [
        "A SparkSession is an entry point into all functionality in Spark, and is required if you want to build a dataframe in PySpark."
      ],
      "metadata": {
        "id": "HgmmMcvTCI80"
      }
    },
    {
      "cell_type": "code",
      "source": [
        "## python\n",
        "import pandas as pd"
      ],
      "metadata": {
        "id": "IqNHwEFzLh8L"
      },
      "execution_count": null,
      "outputs": []
    },
    {
      "cell_type": "code",
      "source": [
        "## pyspark\n",
        "import pyspark\n",
        "from pyspark.sql import SparkSession\n",
        "spark = SparkSession.builder.getOrCreate()"
      ],
      "metadata": {
        "id": "Y1C6thA1_dAU"
      },
      "execution_count": null,
      "outputs": []
    },
    {
      "cell_type": "markdown",
      "source": [
        "# Reading Data"
      ],
      "metadata": {
        "id": "EYgW4KybLdoZ"
      }
    },
    {
      "cell_type": "code",
      "source": [
        "## python\n",
        "df_python = pd.read_csv('reported-crimes.csv')\n",
        "df_python.head()"
      ],
      "metadata": {
        "colab": {
          "base_uri": "https://localhost:8080/",
          "height": 516
        },
        "id": "RjixfztFFtbZ",
        "outputId": "20c972d9-b8ed-428a-9ee6-1c2650c17184"
      },
      "execution_count": null,
      "outputs": [
        {
          "output_type": "execute_result",
          "data": {
            "text/plain": [
              "         ID Case Number                    Date                 Block  IUCR  \\\n",
              "0  11037294    JA371270  03/18/2015 12:00:00 PM     0000X W WACKER DR  1153   \n",
              "1  11646293    JC213749  12/20/2018 03:00:00 PM  023XX N LOCKWOOD AVE  1154   \n",
              "2  11645836    JC212333  05/01/2016 12:25:00 AM   055XX S ROCKWELL ST  1153   \n",
              "3  11645959    JC211511  12/20/2018 04:00:00 PM    045XX N ALBANY AVE  2820   \n",
              "4  11645601    JC212935  06/01/2014 12:01:00 AM   087XX S SANGAMON ST  1153   \n",
              "\n",
              "         Primary Type                              Description  \\\n",
              "0  DECEPTIVE PRACTICE      FINANCIAL IDENTITY THEFT OVER $ 300   \n",
              "1  DECEPTIVE PRACTICE  FINANCIAL IDENTITY THEFT $300 AND UNDER   \n",
              "2  DECEPTIVE PRACTICE      FINANCIAL IDENTITY THEFT OVER $ 300   \n",
              "3       OTHER OFFENSE                         TELEPHONE THREAT   \n",
              "4  DECEPTIVE PRACTICE      FINANCIAL IDENTITY THEFT OVER $ 300   \n",
              "\n",
              "  Location Description  Arrest  Domestic  ...  Ward  Community Area  FBI Code  \\\n",
              "0                 BANK   False     False  ...  42.0            32.0        11   \n",
              "1            APARTMENT   False     False  ...  36.0            19.0        11   \n",
              "2                  NaN   False     False  ...  15.0            63.0        11   \n",
              "3            RESIDENCE   False     False  ...  33.0            14.0       08A   \n",
              "4            RESIDENCE   False     False  ...  21.0            71.0        11   \n",
              "\n",
              "   X Coordinate Y Coordinate  Year              Updated On  Latitude  \\\n",
              "0           NaN          NaN  2015  08/01/2017 03:52:26 PM       NaN   \n",
              "1           NaN          NaN  2018  04/06/2019 04:04:43 PM       NaN   \n",
              "2           NaN          NaN  2016  04/06/2019 04:04:43 PM       NaN   \n",
              "3           NaN          NaN  2018  04/06/2019 04:04:43 PM       NaN   \n",
              "4           NaN          NaN  2014  04/06/2019 04:04:43 PM       NaN   \n",
              "\n",
              "  Longitude  Location  \n",
              "0       NaN       NaN  \n",
              "1       NaN       NaN  \n",
              "2       NaN       NaN  \n",
              "3       NaN       NaN  \n",
              "4       NaN       NaN  \n",
              "\n",
              "[5 rows x 22 columns]"
            ],
            "text/html": [
              "\n",
              "  <div id=\"df-67d15511-0a53-4e9b-9528-e64586760038\" class=\"colab-df-container\">\n",
              "    <div>\n",
              "<style scoped>\n",
              "    .dataframe tbody tr th:only-of-type {\n",
              "        vertical-align: middle;\n",
              "    }\n",
              "\n",
              "    .dataframe tbody tr th {\n",
              "        vertical-align: top;\n",
              "    }\n",
              "\n",
              "    .dataframe thead th {\n",
              "        text-align: right;\n",
              "    }\n",
              "</style>\n",
              "<table border=\"1\" class=\"dataframe\">\n",
              "  <thead>\n",
              "    <tr style=\"text-align: right;\">\n",
              "      <th></th>\n",
              "      <th>ID</th>\n",
              "      <th>Case Number</th>\n",
              "      <th>Date</th>\n",
              "      <th>Block</th>\n",
              "      <th>IUCR</th>\n",
              "      <th>Primary Type</th>\n",
              "      <th>Description</th>\n",
              "      <th>Location Description</th>\n",
              "      <th>Arrest</th>\n",
              "      <th>Domestic</th>\n",
              "      <th>...</th>\n",
              "      <th>Ward</th>\n",
              "      <th>Community Area</th>\n",
              "      <th>FBI Code</th>\n",
              "      <th>X Coordinate</th>\n",
              "      <th>Y Coordinate</th>\n",
              "      <th>Year</th>\n",
              "      <th>Updated On</th>\n",
              "      <th>Latitude</th>\n",
              "      <th>Longitude</th>\n",
              "      <th>Location</th>\n",
              "    </tr>\n",
              "  </thead>\n",
              "  <tbody>\n",
              "    <tr>\n",
              "      <th>0</th>\n",
              "      <td>11037294</td>\n",
              "      <td>JA371270</td>\n",
              "      <td>03/18/2015 12:00:00 PM</td>\n",
              "      <td>0000X W WACKER DR</td>\n",
              "      <td>1153</td>\n",
              "      <td>DECEPTIVE PRACTICE</td>\n",
              "      <td>FINANCIAL IDENTITY THEFT OVER $ 300</td>\n",
              "      <td>BANK</td>\n",
              "      <td>False</td>\n",
              "      <td>False</td>\n",
              "      <td>...</td>\n",
              "      <td>42.0</td>\n",
              "      <td>32.0</td>\n",
              "      <td>11</td>\n",
              "      <td>NaN</td>\n",
              "      <td>NaN</td>\n",
              "      <td>2015</td>\n",
              "      <td>08/01/2017 03:52:26 PM</td>\n",
              "      <td>NaN</td>\n",
              "      <td>NaN</td>\n",
              "      <td>NaN</td>\n",
              "    </tr>\n",
              "    <tr>\n",
              "      <th>1</th>\n",
              "      <td>11646293</td>\n",
              "      <td>JC213749</td>\n",
              "      <td>12/20/2018 03:00:00 PM</td>\n",
              "      <td>023XX N LOCKWOOD AVE</td>\n",
              "      <td>1154</td>\n",
              "      <td>DECEPTIVE PRACTICE</td>\n",
              "      <td>FINANCIAL IDENTITY THEFT $300 AND UNDER</td>\n",
              "      <td>APARTMENT</td>\n",
              "      <td>False</td>\n",
              "      <td>False</td>\n",
              "      <td>...</td>\n",
              "      <td>36.0</td>\n",
              "      <td>19.0</td>\n",
              "      <td>11</td>\n",
              "      <td>NaN</td>\n",
              "      <td>NaN</td>\n",
              "      <td>2018</td>\n",
              "      <td>04/06/2019 04:04:43 PM</td>\n",
              "      <td>NaN</td>\n",
              "      <td>NaN</td>\n",
              "      <td>NaN</td>\n",
              "    </tr>\n",
              "    <tr>\n",
              "      <th>2</th>\n",
              "      <td>11645836</td>\n",
              "      <td>JC212333</td>\n",
              "      <td>05/01/2016 12:25:00 AM</td>\n",
              "      <td>055XX S ROCKWELL ST</td>\n",
              "      <td>1153</td>\n",
              "      <td>DECEPTIVE PRACTICE</td>\n",
              "      <td>FINANCIAL IDENTITY THEFT OVER $ 300</td>\n",
              "      <td>NaN</td>\n",
              "      <td>False</td>\n",
              "      <td>False</td>\n",
              "      <td>...</td>\n",
              "      <td>15.0</td>\n",
              "      <td>63.0</td>\n",
              "      <td>11</td>\n",
              "      <td>NaN</td>\n",
              "      <td>NaN</td>\n",
              "      <td>2016</td>\n",
              "      <td>04/06/2019 04:04:43 PM</td>\n",
              "      <td>NaN</td>\n",
              "      <td>NaN</td>\n",
              "      <td>NaN</td>\n",
              "    </tr>\n",
              "    <tr>\n",
              "      <th>3</th>\n",
              "      <td>11645959</td>\n",
              "      <td>JC211511</td>\n",
              "      <td>12/20/2018 04:00:00 PM</td>\n",
              "      <td>045XX N ALBANY AVE</td>\n",
              "      <td>2820</td>\n",
              "      <td>OTHER OFFENSE</td>\n",
              "      <td>TELEPHONE THREAT</td>\n",
              "      <td>RESIDENCE</td>\n",
              "      <td>False</td>\n",
              "      <td>False</td>\n",
              "      <td>...</td>\n",
              "      <td>33.0</td>\n",
              "      <td>14.0</td>\n",
              "      <td>08A</td>\n",
              "      <td>NaN</td>\n",
              "      <td>NaN</td>\n",
              "      <td>2018</td>\n",
              "      <td>04/06/2019 04:04:43 PM</td>\n",
              "      <td>NaN</td>\n",
              "      <td>NaN</td>\n",
              "      <td>NaN</td>\n",
              "    </tr>\n",
              "    <tr>\n",
              "      <th>4</th>\n",
              "      <td>11645601</td>\n",
              "      <td>JC212935</td>\n",
              "      <td>06/01/2014 12:01:00 AM</td>\n",
              "      <td>087XX S SANGAMON ST</td>\n",
              "      <td>1153</td>\n",
              "      <td>DECEPTIVE PRACTICE</td>\n",
              "      <td>FINANCIAL IDENTITY THEFT OVER $ 300</td>\n",
              "      <td>RESIDENCE</td>\n",
              "      <td>False</td>\n",
              "      <td>False</td>\n",
              "      <td>...</td>\n",
              "      <td>21.0</td>\n",
              "      <td>71.0</td>\n",
              "      <td>11</td>\n",
              "      <td>NaN</td>\n",
              "      <td>NaN</td>\n",
              "      <td>2014</td>\n",
              "      <td>04/06/2019 04:04:43 PM</td>\n",
              "      <td>NaN</td>\n",
              "      <td>NaN</td>\n",
              "      <td>NaN</td>\n",
              "    </tr>\n",
              "  </tbody>\n",
              "</table>\n",
              "<p>5 rows × 22 columns</p>\n",
              "</div>\n",
              "    <div class=\"colab-df-buttons\">\n",
              "\n",
              "  <div class=\"colab-df-container\">\n",
              "    <button class=\"colab-df-convert\" onclick=\"convertToInteractive('df-67d15511-0a53-4e9b-9528-e64586760038')\"\n",
              "            title=\"Convert this dataframe to an interactive table.\"\n",
              "            style=\"display:none;\">\n",
              "\n",
              "  <svg xmlns=\"http://www.w3.org/2000/svg\" height=\"24px\" viewBox=\"0 -960 960 960\">\n",
              "    <path d=\"M120-120v-720h720v720H120Zm60-500h600v-160H180v160Zm220 220h160v-160H400v160Zm0 220h160v-160H400v160ZM180-400h160v-160H180v160Zm440 0h160v-160H620v160ZM180-180h160v-160H180v160Zm440 0h160v-160H620v160Z\"/>\n",
              "  </svg>\n",
              "    </button>\n",
              "\n",
              "  <style>\n",
              "    .colab-df-container {\n",
              "      display:flex;\n",
              "      gap: 12px;\n",
              "    }\n",
              "\n",
              "    .colab-df-convert {\n",
              "      background-color: #E8F0FE;\n",
              "      border: none;\n",
              "      border-radius: 50%;\n",
              "      cursor: pointer;\n",
              "      display: none;\n",
              "      fill: #1967D2;\n",
              "      height: 32px;\n",
              "      padding: 0 0 0 0;\n",
              "      width: 32px;\n",
              "    }\n",
              "\n",
              "    .colab-df-convert:hover {\n",
              "      background-color: #E2EBFA;\n",
              "      box-shadow: 0px 1px 2px rgba(60, 64, 67, 0.3), 0px 1px 3px 1px rgba(60, 64, 67, 0.15);\n",
              "      fill: #174EA6;\n",
              "    }\n",
              "\n",
              "    .colab-df-buttons div {\n",
              "      margin-bottom: 4px;\n",
              "    }\n",
              "\n",
              "    [theme=dark] .colab-df-convert {\n",
              "      background-color: #3B4455;\n",
              "      fill: #D2E3FC;\n",
              "    }\n",
              "\n",
              "    [theme=dark] .colab-df-convert:hover {\n",
              "      background-color: #434B5C;\n",
              "      box-shadow: 0px 1px 3px 1px rgba(0, 0, 0, 0.15);\n",
              "      filter: drop-shadow(0px 1px 2px rgba(0, 0, 0, 0.3));\n",
              "      fill: #FFFFFF;\n",
              "    }\n",
              "  </style>\n",
              "\n",
              "    <script>\n",
              "      const buttonEl =\n",
              "        document.querySelector('#df-67d15511-0a53-4e9b-9528-e64586760038 button.colab-df-convert');\n",
              "      buttonEl.style.display =\n",
              "        google.colab.kernel.accessAllowed ? 'block' : 'none';\n",
              "\n",
              "      async function convertToInteractive(key) {\n",
              "        const element = document.querySelector('#df-67d15511-0a53-4e9b-9528-e64586760038');\n",
              "        const dataTable =\n",
              "          await google.colab.kernel.invokeFunction('convertToInteractive',\n",
              "                                                    [key], {});\n",
              "        if (!dataTable) return;\n",
              "\n",
              "        const docLinkHtml = 'Like what you see? Visit the ' +\n",
              "          '<a target=\"_blank\" href=https://colab.research.google.com/notebooks/data_table.ipynb>data table notebook</a>'\n",
              "          + ' to learn more about interactive tables.';\n",
              "        element.innerHTML = '';\n",
              "        dataTable['output_type'] = 'display_data';\n",
              "        await google.colab.output.renderOutput(dataTable, element);\n",
              "        const docLink = document.createElement('div');\n",
              "        docLink.innerHTML = docLinkHtml;\n",
              "        element.appendChild(docLink);\n",
              "      }\n",
              "    </script>\n",
              "  </div>\n",
              "\n",
              "\n",
              "<div id=\"df-f01aeb3e-8585-4876-9bca-84f0f7b10b82\">\n",
              "  <button class=\"colab-df-quickchart\" onclick=\"quickchart('df-f01aeb3e-8585-4876-9bca-84f0f7b10b82')\"\n",
              "            title=\"Suggest charts\"\n",
              "            style=\"display:none;\">\n",
              "\n",
              "<svg xmlns=\"http://www.w3.org/2000/svg\" height=\"24px\"viewBox=\"0 0 24 24\"\n",
              "     width=\"24px\">\n",
              "    <g>\n",
              "        <path d=\"M19 3H5c-1.1 0-2 .9-2 2v14c0 1.1.9 2 2 2h14c1.1 0 2-.9 2-2V5c0-1.1-.9-2-2-2zM9 17H7v-7h2v7zm4 0h-2V7h2v10zm4 0h-2v-4h2v4z\"/>\n",
              "    </g>\n",
              "</svg>\n",
              "  </button>\n",
              "\n",
              "<style>\n",
              "  .colab-df-quickchart {\n",
              "      --bg-color: #E8F0FE;\n",
              "      --fill-color: #1967D2;\n",
              "      --hover-bg-color: #E2EBFA;\n",
              "      --hover-fill-color: #174EA6;\n",
              "      --disabled-fill-color: #AAA;\n",
              "      --disabled-bg-color: #DDD;\n",
              "  }\n",
              "\n",
              "  [theme=dark] .colab-df-quickchart {\n",
              "      --bg-color: #3B4455;\n",
              "      --fill-color: #D2E3FC;\n",
              "      --hover-bg-color: #434B5C;\n",
              "      --hover-fill-color: #FFFFFF;\n",
              "      --disabled-bg-color: #3B4455;\n",
              "      --disabled-fill-color: #666;\n",
              "  }\n",
              "\n",
              "  .colab-df-quickchart {\n",
              "    background-color: var(--bg-color);\n",
              "    border: none;\n",
              "    border-radius: 50%;\n",
              "    cursor: pointer;\n",
              "    display: none;\n",
              "    fill: var(--fill-color);\n",
              "    height: 32px;\n",
              "    padding: 0;\n",
              "    width: 32px;\n",
              "  }\n",
              "\n",
              "  .colab-df-quickchart:hover {\n",
              "    background-color: var(--hover-bg-color);\n",
              "    box-shadow: 0 1px 2px rgba(60, 64, 67, 0.3), 0 1px 3px 1px rgba(60, 64, 67, 0.15);\n",
              "    fill: var(--button-hover-fill-color);\n",
              "  }\n",
              "\n",
              "  .colab-df-quickchart-complete:disabled,\n",
              "  .colab-df-quickchart-complete:disabled:hover {\n",
              "    background-color: var(--disabled-bg-color);\n",
              "    fill: var(--disabled-fill-color);\n",
              "    box-shadow: none;\n",
              "  }\n",
              "\n",
              "  .colab-df-spinner {\n",
              "    border: 2px solid var(--fill-color);\n",
              "    border-color: transparent;\n",
              "    border-bottom-color: var(--fill-color);\n",
              "    animation:\n",
              "      spin 1s steps(1) infinite;\n",
              "  }\n",
              "\n",
              "  @keyframes spin {\n",
              "    0% {\n",
              "      border-color: transparent;\n",
              "      border-bottom-color: var(--fill-color);\n",
              "      border-left-color: var(--fill-color);\n",
              "    }\n",
              "    20% {\n",
              "      border-color: transparent;\n",
              "      border-left-color: var(--fill-color);\n",
              "      border-top-color: var(--fill-color);\n",
              "    }\n",
              "    30% {\n",
              "      border-color: transparent;\n",
              "      border-left-color: var(--fill-color);\n",
              "      border-top-color: var(--fill-color);\n",
              "      border-right-color: var(--fill-color);\n",
              "    }\n",
              "    40% {\n",
              "      border-color: transparent;\n",
              "      border-right-color: var(--fill-color);\n",
              "      border-top-color: var(--fill-color);\n",
              "    }\n",
              "    60% {\n",
              "      border-color: transparent;\n",
              "      border-right-color: var(--fill-color);\n",
              "    }\n",
              "    80% {\n",
              "      border-color: transparent;\n",
              "      border-right-color: var(--fill-color);\n",
              "      border-bottom-color: var(--fill-color);\n",
              "    }\n",
              "    90% {\n",
              "      border-color: transparent;\n",
              "      border-bottom-color: var(--fill-color);\n",
              "    }\n",
              "  }\n",
              "</style>\n",
              "\n",
              "  <script>\n",
              "    async function quickchart(key) {\n",
              "      const quickchartButtonEl =\n",
              "        document.querySelector('#' + key + ' button');\n",
              "      quickchartButtonEl.disabled = true;  // To prevent multiple clicks.\n",
              "      quickchartButtonEl.classList.add('colab-df-spinner');\n",
              "      try {\n",
              "        const charts = await google.colab.kernel.invokeFunction(\n",
              "            'suggestCharts', [key], {});\n",
              "      } catch (error) {\n",
              "        console.error('Error during call to suggestCharts:', error);\n",
              "      }\n",
              "      quickchartButtonEl.classList.remove('colab-df-spinner');\n",
              "      quickchartButtonEl.classList.add('colab-df-quickchart-complete');\n",
              "    }\n",
              "    (() => {\n",
              "      let quickchartButtonEl =\n",
              "        document.querySelector('#df-f01aeb3e-8585-4876-9bca-84f0f7b10b82 button');\n",
              "      quickchartButtonEl.style.display =\n",
              "        google.colab.kernel.accessAllowed ? 'block' : 'none';\n",
              "    })();\n",
              "  </script>\n",
              "</div>\n",
              "\n",
              "    </div>\n",
              "  </div>\n"
            ],
            "application/vnd.google.colaboratory.intrinsic+json": {
              "type": "dataframe",
              "variable_name": "df_python"
            }
          },
          "metadata": {},
          "execution_count": 15
        }
      ]
    },
    {
      "cell_type": "code",
      "source": [
        "## pyspark\n",
        "df_pyspark = spark.read.csv('reported-crimes.csv', header=True, escape=\"\\\"\")\n",
        "df_pyspark.show(5,0) # 0 is to make sure all columns are displayed\n"
      ],
      "metadata": {
        "colab": {
          "base_uri": "https://localhost:8080/"
        },
        "id": "bbCdu-MXBzEY",
        "outputId": "61a0d246-bd26-4a2a-c9fc-e40c5547eea9"
      },
      "execution_count": null,
      "outputs": [
        {
          "output_type": "stream",
          "name": "stdout",
          "text": [
            "+--------+-----------+----------------------+--------------------+----+------------------+---------------------------------------+--------------------+------+--------+----+--------+----+--------------+--------+------------+------------+----+----------------------+--------+---------+--------+\n",
            "|ID      |Case Number|Date                  |Block               |IUCR|Primary Type      |Description                            |Location Description|Arrest|Domestic|Beat|District|Ward|Community Area|FBI Code|X Coordinate|Y Coordinate|Year|Updated On            |Latitude|Longitude|Location|\n",
            "+--------+-----------+----------------------+--------------------+----+------------------+---------------------------------------+--------------------+------+--------+----+--------+----+--------------+--------+------------+------------+----+----------------------+--------+---------+--------+\n",
            "|11037294|JA371270   |03/18/2015 12:00:00 PM|0000X W WACKER DR   |1153|DECEPTIVE PRACTICE|FINANCIAL IDENTITY THEFT OVER $ 300    |BANK                |false |false   |0111|001     |42  |32            |11      |NULL        |NULL        |2015|08/01/2017 03:52:26 PM|NULL    |NULL     |NULL    |\n",
            "|11646293|JC213749   |12/20/2018 03:00:00 PM|023XX N LOCKWOOD AVE|1154|DECEPTIVE PRACTICE|FINANCIAL IDENTITY THEFT $300 AND UNDER|APARTMENT           |false |false   |2515|025     |36  |19            |11      |NULL        |NULL        |2018|04/06/2019 04:04:43 PM|NULL    |NULL     |NULL    |\n",
            "|11645836|JC212333   |05/01/2016 12:25:00 AM|055XX S ROCKWELL ST |1153|DECEPTIVE PRACTICE|FINANCIAL IDENTITY THEFT OVER $ 300    |NULL                |false |false   |0824|008     |15  |63            |11      |NULL        |NULL        |2016|04/06/2019 04:04:43 PM|NULL    |NULL     |NULL    |\n",
            "|11645959|JC211511   |12/20/2018 04:00:00 PM|045XX N ALBANY AVE  |2820|OTHER OFFENSE     |TELEPHONE THREAT                       |RESIDENCE           |false |false   |1724|017     |33  |14            |08A     |NULL        |NULL        |2018|04/06/2019 04:04:43 PM|NULL    |NULL     |NULL    |\n",
            "|11645601|JC212935   |06/01/2014 12:01:00 AM|087XX S SANGAMON ST |1153|DECEPTIVE PRACTICE|FINANCIAL IDENTITY THEFT OVER $ 300    |RESIDENCE           |false |false   |2222|022     |21  |71            |11      |NULL        |NULL        |2014|04/06/2019 04:04:43 PM|NULL    |NULL     |NULL    |\n",
            "+--------+-----------+----------------------+--------------------+----+------------------+---------------------------------------+--------------------+------+--------+----+--------+----+--------------+--------+------------+------------+----+----------------------+--------+---------+--------+\n",
            "only showing top 5 rows\n",
            "\n"
          ]
        }
      ]
    },
    {
      "cell_type": "markdown",
      "source": [
        "## Basic operations\n",
        "* shape of dataframe = pd.shape\n",
        "* list of column names = pd.columns\n",
        "* data types of columns = pd.datatypes\n",
        "\n",
        "particular column\n",
        "* value counts = pd.value_counts()\n",
        "* unique categories in a column = nunique()"
      ],
      "metadata": {
        "id": "wx-Xq4lXM1Bk"
      }
    },
    {
      "cell_type": "code",
      "source": [
        "## python\n",
        "df_python.shape"
      ],
      "metadata": {
        "colab": {
          "base_uri": "https://localhost:8080/"
        },
        "id": "kPqWuXMLL6CI",
        "outputId": "9d036a27-5c59-479d-ed58-a6822ada9e05"
      },
      "execution_count": null,
      "outputs": [
        {
          "output_type": "execute_result",
          "data": {
            "text/plain": [
              "(8038710, 22)"
            ]
          },
          "metadata": {},
          "execution_count": 16
        }
      ]
    },
    {
      "cell_type": "code",
      "source": [
        "## pyspark\n",
        "df_pyspark.count(), len(df_pyspark.columns)"
      ],
      "metadata": {
        "colab": {
          "base_uri": "https://localhost:8080/"
        },
        "id": "khjqT2-qR-7t",
        "outputId": "797d6e4b-aa6e-434c-e1f6-81c72497623c"
      },
      "execution_count": null,
      "outputs": [
        {
          "output_type": "execute_result",
          "data": {
            "text/plain": [
              "(8038710, 22)"
            ]
          },
          "metadata": {},
          "execution_count": 27
        }
      ]
    },
    {
      "cell_type": "code",
      "source": [
        "## python\n",
        "df_python.columns"
      ],
      "metadata": {
        "colab": {
          "base_uri": "https://localhost:8080/"
        },
        "id": "jpCU5LLYNVvH",
        "outputId": "be50e799-3f39-4dab-fd64-824166e68939"
      },
      "execution_count": null,
      "outputs": [
        {
          "output_type": "execute_result",
          "data": {
            "text/plain": [
              "Index(['ID', 'Case Number', 'Date', 'Block', 'IUCR', 'Primary Type',\n",
              "       'Description', 'Location Description', 'Arrest', 'Domestic', 'Beat',\n",
              "       'District', 'Ward', 'Community Area', 'FBI Code', 'X Coordinate',\n",
              "       'Y Coordinate', 'Year', 'Updated On', 'Latitude', 'Longitude',\n",
              "       'Location'],\n",
              "      dtype='object')"
            ]
          },
          "metadata": {},
          "execution_count": 18
        }
      ]
    },
    {
      "cell_type": "code",
      "source": [
        "## pyspark\n",
        "df_pyspark.columns"
      ],
      "metadata": {
        "colab": {
          "base_uri": "https://localhost:8080/"
        },
        "id": "zWRv3pnaPLRk",
        "outputId": "ff2b9e7b-d72e-42c2-ad5b-0b8dcf08d99f"
      },
      "execution_count": null,
      "outputs": [
        {
          "output_type": "execute_result",
          "data": {
            "text/plain": [
              "['ID',\n",
              " 'Case Number',\n",
              " 'Date',\n",
              " 'Block',\n",
              " 'IUCR',\n",
              " 'Primary Type',\n",
              " 'Description',\n",
              " 'Location Description',\n",
              " 'Arrest',\n",
              " 'Domestic',\n",
              " 'Beat',\n",
              " 'District',\n",
              " 'Ward',\n",
              " 'Community Area',\n",
              " 'FBI Code',\n",
              " 'X Coordinate',\n",
              " 'Y Coordinate',\n",
              " 'Year',\n",
              " 'Updated On',\n",
              " 'Latitude',\n",
              " 'Longitude',\n",
              " 'Location']"
            ]
          },
          "metadata": {},
          "execution_count": 24
        }
      ]
    },
    {
      "cell_type": "code",
      "source": [
        "## python\n",
        "df_python.dtypes"
      ],
      "metadata": {
        "colab": {
          "base_uri": "https://localhost:8080/"
        },
        "id": "u6RnmF3GNiHo",
        "outputId": "025b4155-042f-41b8-98a7-7038612d97ad"
      },
      "execution_count": null,
      "outputs": [
        {
          "output_type": "execute_result",
          "data": {
            "text/plain": [
              "ID                        int64\n",
              "Case Number              object\n",
              "Date                     object\n",
              "Block                    object\n",
              "IUCR                     object\n",
              "Primary Type             object\n",
              "Description              object\n",
              "Location Description     object\n",
              "Arrest                     bool\n",
              "Domestic                   bool\n",
              "Beat                      int64\n",
              "District                float64\n",
              "Ward                    float64\n",
              "Community Area          float64\n",
              "FBI Code                 object\n",
              "X Coordinate            float64\n",
              "Y Coordinate            float64\n",
              "Year                      int64\n",
              "Updated On               object\n",
              "Latitude                float64\n",
              "Longitude               float64\n",
              "Location                 object\n",
              "dtype: object"
            ]
          },
          "metadata": {},
          "execution_count": 19
        }
      ]
    },
    {
      "cell_type": "code",
      "source": [
        "## pyspark\n",
        "# data types"
      ],
      "metadata": {
        "id": "qevwvF4_SMbL"
      },
      "execution_count": null,
      "outputs": []
    },
    {
      "cell_type": "markdown",
      "source": [
        "## particular column operations"
      ],
      "metadata": {
        "id": "oJjXWe4mOV4T"
      }
    },
    {
      "cell_type": "code",
      "source": [
        "## python\n",
        "df_python.nunique()"
      ],
      "metadata": {
        "colab": {
          "base_uri": "https://localhost:8080/"
        },
        "id": "8WbIsiZCNXhB",
        "outputId": "f6b352e7-b8b1-4f8a-ba70-708719fa08b8"
      },
      "execution_count": null,
      "outputs": [
        {
          "output_type": "execute_result",
          "data": {
            "text/plain": [
              "ID                      8038710\n",
              "Case Number             8038147\n",
              "Date                    3328866\n",
              "Block                     63808\n",
              "IUCR                        405\n",
              "Primary Type                 36\n",
              "Description                 552\n",
              "Location Description        217\n",
              "Arrest                        2\n",
              "Domestic                      2\n",
              "Beat                        305\n",
              "District                     24\n",
              "Ward                         50\n",
              "Community Area               78\n",
              "FBI Code                     27\n",
              "X Coordinate              79134\n",
              "Y Coordinate             130291\n",
              "Year                         24\n",
              "Updated On                 6193\n",
              "Latitude                 897016\n",
              "Longitude                896418\n",
              "Location                 898293\n",
              "dtype: int64"
            ]
          },
          "metadata": {},
          "execution_count": 20
        }
      ]
    },
    {
      "cell_type": "code",
      "source": [
        "## pyspark\n",
        "# nunique"
      ],
      "metadata": {
        "id": "5_VOTY9nTfeZ"
      },
      "execution_count": null,
      "outputs": []
    },
    {
      "cell_type": "code",
      "source": [
        "## python\n",
        "df_python['Location Description'].value_counts()"
      ],
      "metadata": {
        "colab": {
          "base_uri": "https://localhost:8080/"
        },
        "id": "eK4j1G4KOvVw",
        "outputId": "7cc5ee6e-4ad1-4470-a7cf-2dead91d91e3"
      },
      "execution_count": null,
      "outputs": [
        {
          "output_type": "execute_result",
          "data": {
            "text/plain": [
              "Location Description\n",
              "STREET               2099971\n",
              "RESIDENCE            1336471\n",
              "APARTMENT             927141\n",
              "SIDEWALK              741818\n",
              "OTHER                 270005\n",
              "                      ...   \n",
              "POOLROOM                   1\n",
              "ROOF                       1\n",
              "TRUCKING TERMINAL          1\n",
              "LAGOON                     1\n",
              "POLICE FACILITY            1\n",
              "Name: count, Length: 217, dtype: int64"
            ]
          },
          "metadata": {},
          "execution_count": 23
        }
      ]
    },
    {
      "cell_type": "code",
      "source": [
        "## pyspark\n",
        "# df_pyspark.select(df_pyspark.age).show()\n",
        "df_pyspark.select('Location Description').distinct().count()"
      ],
      "metadata": {
        "colab": {
          "base_uri": "https://localhost:8080/"
        },
        "id": "Hw2SM_eXOenV",
        "outputId": "7ddc9572-5211-43ec-bc33-1e71e84f6cc8"
      },
      "execution_count": null,
      "outputs": [
        {
          "output_type": "execute_result",
          "data": {
            "text/plain": [
              "218"
            ]
          },
          "metadata": {},
          "execution_count": 31
        }
      ]
    },
    {
      "cell_type": "code",
      "source": [
        "## pyspark\n",
        "\n",
        "df_pyspark.groupBy('Location Description').count().orderBy('count', ascending = False).show()"
      ],
      "metadata": {
        "colab": {
          "base_uri": "https://localhost:8080/"
        },
        "id": "9yYgirURURqt",
        "outputId": "a22dc6f3-7d3a-4bae-d02c-4dc458563fcc"
      },
      "execution_count": null,
      "outputs": [
        {
          "output_type": "stream",
          "name": "stdout",
          "text": [
            "+--------------------+-------+\n",
            "|Location Description|  count|\n",
            "+--------------------+-------+\n",
            "|              STREET|2099971|\n",
            "|           RESIDENCE|1336471|\n",
            "|           APARTMENT| 927141|\n",
            "|            SIDEWALK| 741818|\n",
            "|               OTHER| 270005|\n",
            "|PARKING LOT/GARAG...| 202963|\n",
            "|               ALLEY| 178786|\n",
            "|  SMALL RETAIL STORE| 154740|\n",
            "|SCHOOL, PUBLIC, B...| 146373|\n",
            "|    RESIDENCE-GARAGE| 135523|\n",
            "|          RESTAURANT| 132660|\n",
            "|VEHICLE NON-COMME...| 127612|\n",
            "|RESIDENCE PORCH/H...| 124190|\n",
            "|    DEPARTMENT STORE| 102920|\n",
            "|  GROCERY FOOD STORE| 101114|\n",
            "|         GAS STATION|  89481|\n",
            "|RESIDENTIAL YARD ...|  75148|\n",
            "|COMMERCIAL / BUSI...|  63945|\n",
            "|       PARK PROPERTY|  60447|\n",
            "|CHA PARKING LOT/G...|  56101|\n",
            "+--------------------+-------+\n",
            "only showing top 20 rows\n",
            "\n"
          ]
        }
      ]
    },
    {
      "cell_type": "markdown",
      "source": [
        "# Data cleaning\n",
        "\n",
        "*   Identify missing values\n",
        "*   Correct datatypes\n",
        "*   Extract month and year\n",
        "*   Drop rows not needed\n",
        "\n"
      ],
      "metadata": {
        "id": "hGGN7TrpVHSh"
      }
    },
    {
      "cell_type": "code",
      "source": [
        "## python\n",
        "\n",
        "df_python.isnull().sum()"
      ],
      "metadata": {
        "colab": {
          "base_uri": "https://localhost:8080/"
        },
        "id": "Dc7urYoNdfZw",
        "outputId": "60c6461d-a1cf-4c9b-d4a3-4e717201e56f"
      },
      "execution_count": null,
      "outputs": [
        {
          "output_type": "execute_result",
          "data": {
            "text/plain": [
              "ID                           0\n",
              "Case Number                  0\n",
              "Date                         0\n",
              "Block                        0\n",
              "IUCR                         0\n",
              "Primary Type                 0\n",
              "Description                  0\n",
              "Location Description     12867\n",
              "Arrest                       0\n",
              "Domestic                     0\n",
              "Beat                         0\n",
              "District                    47\n",
              "Ward                    614848\n",
              "Community Area          613472\n",
              "FBI Code                     0\n",
              "X Coordinate             88498\n",
              "Y Coordinate             88498\n",
              "Year                         0\n",
              "Updated On                   0\n",
              "Latitude                 88498\n",
              "Longitude                88498\n",
              "Location                 88498\n",
              "dtype: int64"
            ]
          },
          "metadata": {},
          "execution_count": 35
        }
      ]
    },
    {
      "cell_type": "code",
      "source": [
        "import pyspark.sql.functions as sf"
      ],
      "metadata": {
        "id": "UZx1kfNvU4C2"
      },
      "execution_count": null,
      "outputs": []
    },
    {
      "cell_type": "code",
      "source": [
        "df_pyspark.select([sf.count(sf.when(sf.isnull(c), c)).alias(c) for c in df_pyspark.columns]).show()"
      ],
      "metadata": {
        "colab": {
          "base_uri": "https://localhost:8080/"
        },
        "id": "EZI7i_nHdV2a",
        "outputId": "bc04d22a-5851-4d64-ffc8-a398a749459f"
      },
      "execution_count": null,
      "outputs": [
        {
          "output_type": "stream",
          "name": "stdout",
          "text": [
            "+---+-----------+----+-----+----+------------+-----------+--------------------+------+--------+----+--------+------+--------------+--------+------------+------------+----+----------+--------+---------+--------+\n",
            "| ID|Case Number|Date|Block|IUCR|Primary Type|Description|Location Description|Arrest|Domestic|Beat|District|  Ward|Community Area|FBI Code|X Coordinate|Y Coordinate|Year|Updated On|Latitude|Longitude|Location|\n",
            "+---+-----------+----+-----+----+------------+-----------+--------------------+------+--------+----+--------+------+--------------+--------+------------+------------+----+----------+--------+---------+--------+\n",
            "|  0|          0|   0|    0|   0|           0|          0|               12867|     0|       0|   0|      47|614848|        613472|       0|       88498|       88498|   0|         0|   88498|    88498|   88498|\n",
            "+---+-----------+----+-----+----+------------+-----------+--------------------+------+--------+----+--------+------+--------------+--------+------------+------------+----+----------+--------+---------+--------+\n",
            "\n"
          ]
        }
      ]
    },
    {
      "cell_type": "markdown",
      "source": [
        "# Data Analysis\n",
        "\n",
        "\n",
        "*   Which location description has most reports\n",
        "*   Which month and year saw most crimes\n",
        "*   Bivariate - Time of day and Primary type\n"
      ],
      "metadata": {
        "id": "5IRcEg2PW1sX"
      }
    },
    {
      "cell_type": "markdown",
      "source": [
        "#### location description with most reports (most count of rows)"
      ],
      "metadata": {
        "id": "GygL0Qds00kU"
      }
    },
    {
      "cell_type": "code",
      "source": [
        "## python\n",
        "df_python['Location Description'].value_counts()"
      ],
      "metadata": {
        "colab": {
          "base_uri": "https://localhost:8080/"
        },
        "id": "gjr1-IAJVGy9",
        "outputId": "2c0acfa3-b2f4-4d78-9368-5ed806591fcc"
      },
      "execution_count": null,
      "outputs": [
        {
          "output_type": "execute_result",
          "data": {
            "text/plain": [
              "Location Description\n",
              "STREET               2099971\n",
              "RESIDENCE            1336471\n",
              "APARTMENT             927141\n",
              "SIDEWALK              741818\n",
              "OTHER                 270005\n",
              "                      ...   \n",
              "POOLROOM                   1\n",
              "ROOF                       1\n",
              "TRUCKING TERMINAL          1\n",
              "LAGOON                     1\n",
              "POLICE FACILITY            1\n",
              "Name: count, Length: 217, dtype: int64"
            ]
          },
          "metadata": {},
          "execution_count": 43
        }
      ]
    },
    {
      "cell_type": "code",
      "source": [
        "## pyspark\n",
        "df_pyspark.groupBy('Location Description').count().orderBy(desc('count')).show()"
      ],
      "metadata": {
        "colab": {
          "base_uri": "https://localhost:8080/"
        },
        "id": "rw27gwPSwpz1",
        "outputId": "7277f4a4-aab4-4694-fb73-a0f283954e1c"
      },
      "execution_count": null,
      "outputs": [
        {
          "output_type": "stream",
          "name": "stdout",
          "text": [
            "+--------------------+-------+\n",
            "|Location Description|  count|\n",
            "+--------------------+-------+\n",
            "|              STREET|2099971|\n",
            "|           RESIDENCE|1336471|\n",
            "|           APARTMENT| 927141|\n",
            "|            SIDEWALK| 741818|\n",
            "|               OTHER| 270005|\n",
            "|PARKING LOT/GARAG...| 202963|\n",
            "|               ALLEY| 178786|\n",
            "|  SMALL RETAIL STORE| 154740|\n",
            "|SCHOOL, PUBLIC, B...| 146373|\n",
            "|    RESIDENCE-GARAGE| 135523|\n",
            "|          RESTAURANT| 132660|\n",
            "|VEHICLE NON-COMME...| 127612|\n",
            "|RESIDENCE PORCH/H...| 124190|\n",
            "|    DEPARTMENT STORE| 102920|\n",
            "|  GROCERY FOOD STORE| 101114|\n",
            "|         GAS STATION|  89481|\n",
            "|RESIDENTIAL YARD ...|  75148|\n",
            "|COMMERCIAL / BUSI...|  63945|\n",
            "|       PARK PROPERTY|  60447|\n",
            "|CHA PARKING LOT/G...|  56101|\n",
            "+--------------------+-------+\n",
            "only showing top 20 rows\n",
            "\n"
          ]
        }
      ]
    },
    {
      "cell_type": "code",
      "source": [
        "from pyspark.sql.functions import countDistinct\n",
        "from pyspark.sql.functions import avg, col, desc\n",
        "df_pyspark.groupBy('Location Description').agg(countDistinct('ID').alias('crime_count')).orderBy(desc('crime_count')).show()"
      ],
      "metadata": {
        "colab": {
          "base_uri": "https://localhost:8080/"
        },
        "id": "5r5eqmbRxnbr",
        "outputId": "bb3b201e-8b93-464b-83f7-8077577015db"
      },
      "execution_count": null,
      "outputs": [
        {
          "output_type": "stream",
          "name": "stdout",
          "text": [
            "+--------------------+-----------+\n",
            "|Location Description|crime_count|\n",
            "+--------------------+-----------+\n",
            "|              STREET|    2099971|\n",
            "|           RESIDENCE|    1336471|\n",
            "|           APARTMENT|     927141|\n",
            "|            SIDEWALK|     741818|\n",
            "|               OTHER|     270005|\n",
            "|PARKING LOT/GARAG...|     202963|\n",
            "|               ALLEY|     178786|\n",
            "|  SMALL RETAIL STORE|     154740|\n",
            "|SCHOOL, PUBLIC, B...|     146373|\n",
            "|    RESIDENCE-GARAGE|     135523|\n",
            "|          RESTAURANT|     132660|\n",
            "|VEHICLE NON-COMME...|     127612|\n",
            "|RESIDENCE PORCH/H...|     124190|\n",
            "|    DEPARTMENT STORE|     102920|\n",
            "|  GROCERY FOOD STORE|     101114|\n",
            "|         GAS STATION|      89481|\n",
            "|RESIDENTIAL YARD ...|      75148|\n",
            "|COMMERCIAL / BUSI...|      63945|\n",
            "|       PARK PROPERTY|      60447|\n",
            "|CHA PARKING LOT/G...|      56101|\n",
            "+--------------------+-----------+\n",
            "only showing top 20 rows\n",
            "\n"
          ]
        }
      ]
    },
    {
      "cell_type": "markdown",
      "source": [
        "#### Date time variable"
      ],
      "metadata": {
        "id": "wksbIeyc030H"
      }
    },
    {
      "cell_type": "code",
      "source": [
        "## python\n",
        "print(df_python['Date'].dtype)\n",
        "df_python['Date'] = pd.to_datetime(df_python['Date'])\n",
        "print(df_python['Date'].dtype)"
      ],
      "metadata": {
        "colab": {
          "base_uri": "https://localhost:8080/"
        },
        "id": "SEfYYuaO1A59",
        "outputId": "55e6097f-973a-4b3d-9590-2c7c7057ee05"
      },
      "execution_count": null,
      "outputs": [
        {
          "output_type": "stream",
          "name": "stdout",
          "text": [
            "object\n",
            "datetime64[ns]\n"
          ]
        }
      ]
    },
    {
      "cell_type": "code",
      "source": [
        "## python\n",
        "df_python['hour'] = df_python['Date'].dt.hour\n",
        "df_python['month'] = df_python['Date'].dt.month"
      ],
      "metadata": {
        "id": "Hvk6vOG07wGX"
      },
      "execution_count": null,
      "outputs": []
    },
    {
      "cell_type": "code",
      "source": [
        "## pyspark\n",
        "df_pyspark.select('Date').dtypes"
      ],
      "metadata": {
        "colab": {
          "base_uri": "https://localhost:8080/"
        },
        "id": "7Ev6XfYU_wSZ",
        "outputId": "5514d298-5d8e-4cb9-86b9-74ddfcd4bed8"
      },
      "execution_count": null,
      "outputs": [
        {
          "output_type": "execute_result",
          "data": {
            "text/plain": [
              "[('Date', 'string')]"
            ]
          },
          "metadata": {},
          "execution_count": 69
        }
      ]
    },
    {
      "cell_type": "code",
      "source": [
        "## pyspark\n",
        "from pyspark.sql.functions import to_date, to_timestamp\n",
        "df = df_pyspark.select(to_date(df_pyspark.Date, 'MM-dd-yyyy HH:mm:ss').alias('NewDate'))"
      ],
      "metadata": {
        "id": "4HYR6dD88PDF"
      },
      "execution_count": null,
      "outputs": []
    },
    {
      "cell_type": "code",
      "source": [
        "df.select('NewDate').show(5,0)"
      ],
      "metadata": {
        "colab": {
          "base_uri": "https://localhost:8080/"
        },
        "id": "e8GYwH_J78Fj",
        "outputId": "f22b7bd1-ad1c-44d1-fa51-36816de49f76"
      },
      "execution_count": null,
      "outputs": [
        {
          "output_type": "stream",
          "name": "stdout",
          "text": [
            "+-------+\n",
            "|NewDate|\n",
            "+-------+\n",
            "|NULL   |\n",
            "|NULL   |\n",
            "|NULL   |\n",
            "|NULL   |\n",
            "|NULL   |\n",
            "+-------+\n",
            "only showing top 5 rows\n",
            "\n"
          ]
        }
      ]
    },
    {
      "cell_type": "code",
      "source": [],
      "metadata": {
        "id": "5y0wU-M7GsR4"
      },
      "execution_count": null,
      "outputs": []
    },
    {
      "cell_type": "code",
      "source": [],
      "metadata": {
        "id": "yhtEDhhTGsPe"
      },
      "execution_count": null,
      "outputs": []
    },
    {
      "cell_type": "code",
      "source": [],
      "metadata": {
        "id": "H_QsAHmxGsM2"
      },
      "execution_count": null,
      "outputs": []
    },
    {
      "cell_type": "code",
      "source": [],
      "metadata": {
        "id": "Miji6Ix3GsKn"
      },
      "execution_count": null,
      "outputs": []
    },
    {
      "cell_type": "code",
      "source": [],
      "metadata": {
        "id": "bGqt15wQGsHE"
      },
      "execution_count": null,
      "outputs": []
    },
    {
      "cell_type": "code",
      "source": [],
      "metadata": {
        "id": "GHGlw5JbGsA1"
      },
      "execution_count": null,
      "outputs": []
    },
    {
      "cell_type": "code",
      "source": [],
      "metadata": {
        "id": "47sEuK-tGr-B"
      },
      "execution_count": null,
      "outputs": []
    },
    {
      "cell_type": "code",
      "source": [],
      "metadata": {
        "id": "2OEjtkpMGr7B"
      },
      "execution_count": null,
      "outputs": []
    },
    {
      "cell_type": "code",
      "source": [],
      "metadata": {
        "id": "ZM5WWf1MGr4h"
      },
      "execution_count": null,
      "outputs": []
    },
    {
      "cell_type": "code",
      "source": [],
      "metadata": {
        "id": "T7l8Ir16Gr14"
      },
      "execution_count": null,
      "outputs": []
    },
    {
      "cell_type": "code",
      "source": [],
      "metadata": {
        "id": "rhzmgtFLGrzC"
      },
      "execution_count": null,
      "outputs": []
    },
    {
      "cell_type": "code",
      "source": [],
      "metadata": {
        "id": "JVlYl2ZjGrw1"
      },
      "execution_count": null,
      "outputs": []
    },
    {
      "cell_type": "code",
      "source": [],
      "metadata": {
        "id": "INNLhrj1Grtl"
      },
      "execution_count": null,
      "outputs": []
    },
    {
      "cell_type": "code",
      "source": [],
      "metadata": {
        "id": "p7mKkioyGrrA"
      },
      "execution_count": null,
      "outputs": []
    },
    {
      "cell_type": "code",
      "source": [],
      "metadata": {
        "id": "92Fn5PO7GroO"
      },
      "execution_count": null,
      "outputs": []
    },
    {
      "cell_type": "markdown",
      "source": [
        "# Build ML model"
      ],
      "metadata": {
        "id": "dAMiR4AyXjUK"
      }
    },
    {
      "cell_type": "code",
      "source": [],
      "metadata": {
        "id": "fDpK2adzXkuO"
      },
      "execution_count": null,
      "outputs": []
    }
  ]
}